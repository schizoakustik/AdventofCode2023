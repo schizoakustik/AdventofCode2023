{
 "cells": [
  {
   "cell_type": "code",
   "execution_count": 90,
   "metadata": {},
   "outputs": [
    {
     "data": {
      "text/plain": [
       "53334"
      ]
     },
     "execution_count": 90,
     "metadata": {},
     "output_type": "execute_result"
    }
   ],
   "source": [
    "#1.1\n",
    "def find_and_add_first_and_last_digits(string):\n",
    "    digits = []\n",
    "    for c in string:\n",
    "        if c.isdigit():\n",
    "            digits.append(c)\n",
    "    return int(digits[0]+digits[-1])\n",
    "\n",
    "        \n",
    "with open('data/1_calibration_codes.txt', 'r') as f:\n",
    "    values = f.readlines()\n",
    "\n",
    "answer = 0\n",
    "for l in values:\n",
    "    answer += find_and_add_first_and_last_digits(l)\n",
    "\n",
    "answer\n"
   ]
  },
  {
   "cell_type": "code",
   "execution_count": 89,
   "metadata": {},
   "outputs": [
    {
     "data": {
      "text/plain": [
       "52834"
      ]
     },
     "execution_count": 89,
     "metadata": {},
     "output_type": "execute_result"
    }
   ],
   "source": [
    "# 1.2\n",
    "# I might need two checks, one for a digit and one to search for a spelled-out digit, but I also need to keep track of the position...\n",
    "\n",
    "digits_dict = {\n",
    "    'one': '1',\n",
    "    'two': '2',\n",
    "    'three': '3',\n",
    "    'four': '4',\n",
    "    'five': '5',\n",
    "    'six': '6',\n",
    "    'seven': '7',\n",
    "    'eight': '8',\n",
    "    'nine': '9'\n",
    "}\n",
    "\n",
    "def find_spelled_out_digit(string):\n",
    "    digits = []\n",
    "    for d in digits_dict.keys():\n",
    "        first = string.find(d)\n",
    "        last = string.rfind(d)\n",
    "        if first != -1:\n",
    "            digits.append((first, digits_dict[d]))\n",
    "        if last != -1:\n",
    "            digits.append((last, digits_dict[d]))\n",
    "    return sorted(digits)\n",
    "\n",
    "def find_digits(string):\n",
    "    digits = []\n",
    "    for i, c in enumerate(string):\n",
    "        if c.isdigit():\n",
    "            digits.append((i, c))\n",
    "    return digits\n",
    "\n",
    "\n",
    "def find_and_add_first_and_last_spelled_out_and_numerical(string):\n",
    "    val = sorted(find_digits(string) + find_spelled_out_digit(string))[0][1] + sorted(find_digits(string) + find_spelled_out_digit(string))[-1][1]\n",
    "    # print(string, val)\n",
    "    return val\n",
    "\n",
    "answer = 0\n",
    "for l in values:\n",
    "    answer += int(find_and_add_first_and_last_spelled_out_and_numerical(l.strip()))\n",
    "\n",
    "answer"
   ]
  },
  {
   "cell_type": "code",
   "execution_count": 126,
   "metadata": {},
   "outputs": [
    {
     "data": {
      "text/plain": [
       "2617"
      ]
     },
     "execution_count": 126,
     "metadata": {},
     "output_type": "execute_result"
    }
   ],
   "source": [
    "# 2.1\n",
    "def parse_game_result(line: str):\n",
    "    \"\"\" Read a line of game results and return its number or 0 depending on it it meets the criteria or not \"\"\"\n",
    "    max_red = 12\n",
    "    max_green = 13\n",
    "    max_blue = 14\n",
    "    colors = {\n",
    "        'red': 0,\n",
    "        'green': 0, \n",
    "        'blue': 0\n",
    "\n",
    "    }\n",
    "    game_number, results = line.split(':')\n",
    "    game_number = game_number.split(' ')[1]\n",
    "    sets = results.split(';')\n",
    "    for s in sets:\n",
    "        # print(s)\n",
    "        for hand in s.split(','):\n",
    "            for color in colors.keys():\n",
    "                if color in hand:\n",
    "                    # print(hand.strip().split(' '))\n",
    "                    colors[color] = max(int(hand.strip().split(' ')[0]), colors[color])\n",
    "\n",
    "    if colors['red'] <= max_red and colors['green'] <= max_green and colors['blue'] <= max_blue:\n",
    "        return int(game_number)\n",
    "    else:\n",
    "        return 0\n",
    "\n",
    "data = open('data/2_game_data.txt', 'r').readlines()\n",
    "\n",
    "answer = 0\n",
    "\n",
    "for line in data:\n",
    "    answer += parse_game_result(line)\n",
    "\n",
    "answer"
   ]
  },
  {
   "cell_type": "code",
   "execution_count": 73,
   "metadata": {},
   "outputs": [
    {
     "ename": "ValueError",
     "evalue": "not enough values to unpack (expected 2, got 1)",
     "output_type": "error",
     "traceback": [
      "\u001b[0;31m---------------------------------------------------------------------------\u001b[0m",
      "\u001b[0;31mValueError\u001b[0m                                Traceback (most recent call last)",
      "Cell \u001b[0;32mIn[73], line 32\u001b[0m\n\u001b[1;32m     29\u001b[0m answer \u001b[38;5;241m=\u001b[39m \u001b[38;5;241m0\u001b[39m\n\u001b[1;32m     31\u001b[0m \u001b[38;5;28;01mfor\u001b[39;00m line \u001b[38;5;129;01min\u001b[39;00m data:\n\u001b[0;32m---> 32\u001b[0m     answer \u001b[38;5;241m+\u001b[39m\u001b[38;5;241m=\u001b[39m \u001b[43mparse_game_result\u001b[49m\u001b[43m(\u001b[49m\u001b[43mline\u001b[49m\u001b[43m)\u001b[49m\n\u001b[1;32m     34\u001b[0m answer\n",
      "Cell \u001b[0;32mIn[73], line 17\u001b[0m, in \u001b[0;36mparse_game_result\u001b[0;34m(line)\u001b[0m\n\u001b[1;32m     10\u001b[0m max_blue \u001b[38;5;241m=\u001b[39m \u001b[38;5;241m14\u001b[39m\n\u001b[1;32m     11\u001b[0m colors \u001b[38;5;241m=\u001b[39m {\n\u001b[1;32m     12\u001b[0m     \u001b[38;5;124m'\u001b[39m\u001b[38;5;124mred\u001b[39m\u001b[38;5;124m'\u001b[39m: \u001b[38;5;241m0\u001b[39m,\n\u001b[1;32m     13\u001b[0m     \u001b[38;5;124m'\u001b[39m\u001b[38;5;124mgreen\u001b[39m\u001b[38;5;124m'\u001b[39m: \u001b[38;5;241m0\u001b[39m, \n\u001b[1;32m     14\u001b[0m     \u001b[38;5;124m'\u001b[39m\u001b[38;5;124mblue\u001b[39m\u001b[38;5;124m'\u001b[39m: \u001b[38;5;241m0\u001b[39m\n\u001b[1;32m     15\u001b[0m \n\u001b[1;32m     16\u001b[0m }\n\u001b[0;32m---> 17\u001b[0m game_number, results \u001b[38;5;241m=\u001b[39m line\u001b[38;5;241m.\u001b[39msplit(\u001b[38;5;124m'\u001b[39m\u001b[38;5;124m:\u001b[39m\u001b[38;5;124m'\u001b[39m)\n\u001b[1;32m     18\u001b[0m game_number \u001b[38;5;241m=\u001b[39m game_number\u001b[38;5;241m.\u001b[39msplit(\u001b[38;5;124m'\u001b[39m\u001b[38;5;124m \u001b[39m\u001b[38;5;124m'\u001b[39m)[\u001b[38;5;241m1\u001b[39m]\n\u001b[1;32m     19\u001b[0m sets \u001b[38;5;241m=\u001b[39m results\u001b[38;5;241m.\u001b[39msplit(\u001b[38;5;124m'\u001b[39m\u001b[38;5;124m;\u001b[39m\u001b[38;5;124m'\u001b[39m)\n",
      "\u001b[0;31mValueError\u001b[0m: not enough values to unpack (expected 2, got 1)"
     ]
    }
   ],
   "source": [
    "# 2.2\n",
    "# Find the sum of the powers of the minimum possible sets of each game. That's the values in colors for each game so with a little tinkering the parser should be reusable.\n",
    "\n",
    "from math import prod\n",
    "\n",
    "def parse_game_result(line: str):\n",
    "    \"\"\" Read a line of game results and return its number or 0 depending on it it meets the criteria or not \"\"\"\n",
    "    max_red = 12\n",
    "    max_green = 13\n",
    "    max_blue = 14\n",
    "    colors = {\n",
    "        'red': 0,\n",
    "        'green': 0, \n",
    "        'blue': 0\n",
    "\n",
    "    }\n",
    "    game_number, results = line.split(':')\n",
    "    game_number = game_number.split(' ')[1]\n",
    "    sets = results.split(';')\n",
    "    for s in sets:\n",
    "        # print(s)\n",
    "        for hand in s.split(','):\n",
    "            for color in colors.keys():\n",
    "                if color in hand:\n",
    "                    # print(hand.strip().split(' '))\n",
    "                    colors[color] = max(int(hand.strip().split(' ')[0]), colors[color])\n",
    "    return prod(colors.values())\n",
    "\n",
    "answer = 0\n",
    "\n",
    "for line in data:\n",
    "    answer += parse_game_result(line)\n",
    "\n",
    "answer"
   ]
  },
  {
   "cell_type": "code",
   "execution_count": 76,
   "metadata": {},
   "outputs": [
    {
     "data": {
      "text/plain": [
       "522726"
      ]
     },
     "execution_count": 76,
     "metadata": {},
     "output_type": "execute_result"
    }
   ],
   "source": [
    "# 3.1\n",
    "# Sum all engine part numbers where engine part are adjacent to symbols in the schematic.\n",
    "# Start by mapping all symbols. Then, map out all numbers, and keep the ones that are adjacent to a symbol on the symbol map.\n",
    "\n",
    "import numpy as np\n",
    "\n",
    "class Symbol:\n",
    "    def __init__(self, symbol, line, column) -> None:\n",
    "        self.symbol = symbol\n",
    "        self.line = line\n",
    "        self.column = column\n",
    "        self.gear_part_numbers = []\n",
    "\n",
    "    def add_gear_part_number(self, number):\n",
    "        self.gear_part_numbers.append(number)\n",
    "\n",
    "    def calculate_gear_ratio(self):\n",
    "        if len(self.gear_part_numbers) == 2:\n",
    "            return prod(self.gear_part_numbers)\n",
    "        \n",
    "        return 0\n",
    "    \n",
    "    def __repr__(self) -> str:\n",
    "        return f'{self.symbol} {self.line}:{self.column} | {self.gear_part_numbers}'\n",
    "\n",
    "class Number:\n",
    "    def __init__(self, number, lines, columns) -> None:\n",
    "        self.number = number\n",
    "        self.lines = lines\n",
    "        self.columns = columns\n",
    "    \n",
    "    def __repr__(self) -> str:\n",
    "        return f'{self.number} {self.line}:{self.columns}'\n",
    "\n",
    "symbols = []\n",
    "numbers = []\n",
    "\n",
    "schematic = open('data/3_enginge_schematic.txt', 'r').readlines()\n",
    "\n",
    "for i, line in enumerate(schematic):\n",
    "    n = ''\n",
    "    n_cols = []\n",
    "    for j, c in enumerate(line.strip()):\n",
    "        if not c.isalnum() and not c == '.':\n",
    "            symbols.append(Symbol(c, i, j))\n",
    "        if c.isdigit():\n",
    "            n += c\n",
    "            n_cols.append(j)\n",
    "            if not line[j+1].isdigit():\n",
    "                numbers.append(Number(n, np.arange(i-1, i+2), np.arange(n_cols[0]-1, n_cols[-1]+2)))\n",
    "                n = ''\n",
    "                n_cols = []\n",
    "\n",
    "answer = 0\n",
    "\n",
    "for number in numbers:\n",
    "    for symbol in symbols:\n",
    "        if symbol.line in number.lines and symbol.column in number.columns:\n",
    "            # print(number.number)\n",
    "            answer += int(number.number)\n",
    "\n",
    "answer"
   ]
  },
  {
   "cell_type": "code",
   "execution_count": 77,
   "metadata": {},
   "outputs": [
    {
     "data": {
      "text/plain": [
       "81721933"
      ]
     },
     "execution_count": 77,
     "metadata": {},
     "output_type": "execute_result"
    }
   ],
   "source": [
    "# 3.2\n",
    "# Sum up all the gear ratios, that is the sum of the products of the numbers that share a * symbol.\n",
    "\n",
    "for number in numbers:\n",
    "    for symbol in symbols:\n",
    "        if symbol.line in number.lines and symbol.column in number.columns:\n",
    "            if symbol.symbol == '*':\n",
    "            # print(number.number)\n",
    "                symbol.add_gear_part_number(int(number.number))\n",
    "\n",
    "sum([symbol.calculate_gear_ratio() for symbol in symbols])"
   ]
  },
  {
   "cell_type": "code",
   "execution_count": 187,
   "metadata": {},
   "outputs": [
    {
     "data": {
      "text/plain": [
       "27059"
      ]
     },
     "execution_count": 187,
     "metadata": {},
     "output_type": "execute_result"
    }
   ],
   "source": [
    "# 4.1\n",
    "scratchcards = open('data/4_scratchcards.txt', 'r').readlines()\n",
    "# scratchcards = ['Card 1: 41 48 83 86 17 | 83 86  6 31 17  9 48 53',\n",
    "#                 'Card 2: 13 32 20 16 61 | 61 30 68 82 17 32 24 19',\n",
    "#                 'Card 3:  1 21 53 59 44 | 69 82 63 72 16 21 14  1',\n",
    "#                 'Card 4: 41 92 73 84 69 | 59 84 76 51 58  5 54 83',\n",
    "#                 'Card 5: 87 83 26 28 32 | 88 30 70 12 93 22 82 36',\n",
    "#                 'Card 6: 31 18 13 56 72 | 74 77 10 23 35 67 36 11']\n",
    "answer = 0\n",
    "\n",
    "for line in scratchcards:\n",
    "    card, numbers = line.split(':')\n",
    "    # card_number = card.strip().split(' ')[1] \n",
    "    winning_numbers, numbers_i_have = numbers.split('|')\n",
    "    card_value = 0\n",
    "    winning_numbers_set = set([n for n in winning_numbers.strip().split(' ') if n != ''])\n",
    "    numbers_i_have_set = set([n for n in numbers_i_have.strip().split(' ') if n != ''])\n",
    "    winning_numbers_on_card = len(winning_numbers_set.intersection(numbers_i_have_set))\n",
    "    # # winning_numbers_on_card = len(\n",
    "    # #     set(winning_numbers.strip().split(' ')).intersection(\n",
    "    # #         set(numbers_i_have.strip().split(' '))))\n",
    "    for i in range(1, winning_numbers_on_card):\n",
    "        if i == 1: \n",
    "            card_value += i\n",
    "        card_value *= 2\n",
    "    if winning_numbers_on_card == 1: card_value = 1\n",
    "    answer += card_value\n",
    "answer"
   ]
  },
  {
   "cell_type": "code",
   "execution_count": 1,
   "metadata": {},
   "outputs": [
    {
     "data": {
      "text/plain": [
       "5744979"
      ]
     },
     "execution_count": 1,
     "metadata": {},
     "output_type": "execute_result"
    }
   ],
   "source": [
    "# 4.2\n",
    "\n",
    "\n",
    "data = ['Card   1: 41 48 83 86 17 | 83 86  6 31 17  9 48 53',\n",
    "                'Card 2: 13 32 20 16 61 | 61 30 68 82 17 32 24 19',\n",
    "                'Card 3:  1 21 53 59 44 | 69 82 63 72 16 21 14  1',\n",
    "                'Card 4: 41 92 73 84 69 | 59 84 76 51 58  5 54 83',\n",
    "                'Card 5: 87 83 26 28 32 | 88 30 70 12 93 22 82 36',\n",
    "                'Card 6: 31 18 13 56 72 | 74 77 10 23 35 67 36 11']\n",
    "\n",
    "data = open('data/4_scratchcards.txt', 'r').readlines()\n",
    "\n",
    "scratchcards = []\n",
    "\n",
    "class ScatchCard:\n",
    "    def __init__(self, number, number_of_matching_numbers) -> None:\n",
    "        self.number = number\n",
    "        self.number_of_matching_numbers = number_of_matching_numbers\n",
    "\n",
    "    def __repr__(self) -> str:\n",
    "        return f'''Card #{self.number}: {self.number_of_matching_numbers} matching numbers'''\n",
    "\n",
    "def parse_scratchcard(line):\n",
    "    \"\"\" For each card, count number of wins \"\"\"\n",
    "    card, numbers = line.split(':')\n",
    "    card_number = int(card.split(' ')[-1])\n",
    "    winning_numbers, numbers_i_have = numbers.split('|')\n",
    "    # card_value = 0\n",
    "    winning_numbers_set = set([n for n in winning_numbers.strip().split(' ') if n != ''])\n",
    "    numbers_i_have_set = set([n for n in numbers_i_have.strip().split(' ') if n != ''])\n",
    "    winning_numbers_on_card = len(winning_numbers_set.intersection(numbers_i_have_set))\n",
    "    # print(card_number, data[card_number:winning_numbers_on_card+1+i])\n",
    "    # for sc in data[card_number:winning_numbers_on_card+i+1]:\n",
    "    #     scratchcards.append(parse_scratchcard(i, sc))\n",
    "    scratchcard = ScatchCard(card_number, winning_numbers_on_card)\n",
    "    # scratchcards.append(scratchcard)\n",
    "    return scratchcard\n",
    "\n",
    "for i, line in enumerate(data):\n",
    "    scratchcards.append(parse_scratchcard(line))\n",
    "\n",
    "for scratchcard in scratchcards:\n",
    "    for sc in data[scratchcard.number:scratchcard.number+scratchcard.number_of_matching_numbers]:\n",
    "        scratchcards.append(parse_scratchcard(sc))\n",
    "\n",
    "len(scratchcards)\n"
   ]
  },
  {
   "cell_type": "code",
   "execution_count": null,
   "metadata": {},
   "outputs": [],
   "source": [
    "# 5.1"
   ]
  }
 ],
 "metadata": {
  "kernelspec": {
   "display_name": "Python 3",
   "language": "python",
   "name": "python3"
  },
  "language_info": {
   "codemirror_mode": {
    "name": "ipython",
    "version": 3
   },
   "file_extension": ".py",
   "mimetype": "text/x-python",
   "name": "python",
   "nbconvert_exporter": "python",
   "pygments_lexer": "ipython3",
   "version": "3.10.12"
  }
 },
 "nbformat": 4,
 "nbformat_minor": 2
}
