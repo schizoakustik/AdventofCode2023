{
 "cells": [
  {
   "cell_type": "code",
   "execution_count": 90,
   "metadata": {},
   "outputs": [
    {
     "data": {
      "text/plain": [
       "53334"
      ]
     },
     "execution_count": 90,
     "metadata": {},
     "output_type": "execute_result"
    }
   ],
   "source": [
    "#1.1\n",
    "def find_and_add_first_and_last_digits(string):\n",
    "    digits = []\n",
    "    for c in string:\n",
    "        if c.isdigit():\n",
    "            digits.append(c)\n",
    "    return int(digits[0]+digits[-1])\n",
    "\n",
    "        \n",
    "with open('data/1_calibration_codes.txt', 'r') as f:\n",
    "    values = f.readlines()\n",
    "\n",
    "answer = 0\n",
    "for l in values:\n",
    "    answer += find_and_add_first_and_last_digits(l)\n",
    "\n",
    "answer\n"
   ]
  },
  {
   "cell_type": "code",
   "execution_count": 89,
   "metadata": {},
   "outputs": [
    {
     "data": {
      "text/plain": [
       "52834"
      ]
     },
     "execution_count": 89,
     "metadata": {},
     "output_type": "execute_result"
    }
   ],
   "source": [
    "# 1.2\n",
    "# I might need two checks, one for a digit and one to search for a spelled-out digit, but I also need to keep track of the position...\n",
    "\n",
    "digits_dict = {\n",
    "    'one': '1',\n",
    "    'two': '2',\n",
    "    'three': '3',\n",
    "    'four': '4',\n",
    "    'five': '5',\n",
    "    'six': '6',\n",
    "    'seven': '7',\n",
    "    'eight': '8',\n",
    "    'nine': '9'\n",
    "}\n",
    "\n",
    "def find_spelled_out_digit(string):\n",
    "    digits = []\n",
    "    for d in digits_dict.keys():\n",
    "        first = string.find(d)\n",
    "        last = string.rfind(d)\n",
    "        if first != -1:\n",
    "            digits.append((first, digits_dict[d]))\n",
    "        if last != -1:\n",
    "            digits.append((last, digits_dict[d]))\n",
    "    return sorted(digits)\n",
    "\n",
    "def find_digits(string):\n",
    "    digits = []\n",
    "    for i, c in enumerate(string):\n",
    "        if c.isdigit():\n",
    "            digits.append((i, c))\n",
    "    return digits\n",
    "\n",
    "\n",
    "def find_and_add_first_and_last_spelled_out_and_numerical(string):\n",
    "    val = sorted(find_digits(string) + find_spelled_out_digit(string))[0][1] + sorted(find_digits(string) + find_spelled_out_digit(string))[-1][1]\n",
    "    # print(string, val)\n",
    "    return val\n",
    "\n",
    "answer = 0\n",
    "for l in values:\n",
    "    answer += int(find_and_add_first_and_last_spelled_out_and_numerical(l.strip()))\n",
    "\n",
    "answer"
   ]
  },
  {
   "cell_type": "code",
   "execution_count": 126,
   "metadata": {},
   "outputs": [
    {
     "data": {
      "text/plain": [
       "2617"
      ]
     },
     "execution_count": 126,
     "metadata": {},
     "output_type": "execute_result"
    }
   ],
   "source": [
    "# 2.1\n",
    "def parse_game_result(line: str):\n",
    "    \"\"\" Read a line of game results and return its number or 0 depending on it it meets the criteria or not \"\"\"\n",
    "    max_red = 12\n",
    "    max_green = 13\n",
    "    max_blue = 14\n",
    "    colors = {\n",
    "        'red': 0,\n",
    "        'green': 0, \n",
    "        'blue': 0\n",
    "\n",
    "    }\n",
    "    game_number, results = line.split(':')\n",
    "    game_number = game_number.split(' ')[1]\n",
    "    sets = results.split(';')\n",
    "    for s in sets:\n",
    "        # print(s)\n",
    "        for hand in s.split(','):\n",
    "            for color in colors.keys():\n",
    "                if color in hand:\n",
    "                    # print(hand.strip().split(' '))\n",
    "                    colors[color] = max(int(hand.strip().split(' ')[0]), colors[color])\n",
    "\n",
    "    if colors['red'] <= max_red and colors['green'] <= max_green and colors['blue'] <= max_blue:\n",
    "        return int(game_number)\n",
    "    else:\n",
    "        return 0\n",
    "\n",
    "data = open('data/2_game_data.txt', 'r').readlines()\n",
    "\n",
    "answer = 0\n",
    "\n",
    "for line in data:\n",
    "    answer += parse_game_result(line)\n",
    "\n",
    "answer"
   ]
  },
  {
   "cell_type": "code",
   "execution_count": 73,
   "metadata": {},
   "outputs": [
    {
     "ename": "ValueError",
     "evalue": "not enough values to unpack (expected 2, got 1)",
     "output_type": "error",
     "traceback": [
      "\u001b[0;31m---------------------------------------------------------------------------\u001b[0m",
      "\u001b[0;31mValueError\u001b[0m                                Traceback (most recent call last)",
      "Cell \u001b[0;32mIn[73], line 32\u001b[0m\n\u001b[1;32m     29\u001b[0m answer \u001b[38;5;241m=\u001b[39m \u001b[38;5;241m0\u001b[39m\n\u001b[1;32m     31\u001b[0m \u001b[38;5;28;01mfor\u001b[39;00m line \u001b[38;5;129;01min\u001b[39;00m data:\n\u001b[0;32m---> 32\u001b[0m     answer \u001b[38;5;241m+\u001b[39m\u001b[38;5;241m=\u001b[39m \u001b[43mparse_game_result\u001b[49m\u001b[43m(\u001b[49m\u001b[43mline\u001b[49m\u001b[43m)\u001b[49m\n\u001b[1;32m     34\u001b[0m answer\n",
      "Cell \u001b[0;32mIn[73], line 17\u001b[0m, in \u001b[0;36mparse_game_result\u001b[0;34m(line)\u001b[0m\n\u001b[1;32m     10\u001b[0m max_blue \u001b[38;5;241m=\u001b[39m \u001b[38;5;241m14\u001b[39m\n\u001b[1;32m     11\u001b[0m colors \u001b[38;5;241m=\u001b[39m {\n\u001b[1;32m     12\u001b[0m     \u001b[38;5;124m'\u001b[39m\u001b[38;5;124mred\u001b[39m\u001b[38;5;124m'\u001b[39m: \u001b[38;5;241m0\u001b[39m,\n\u001b[1;32m     13\u001b[0m     \u001b[38;5;124m'\u001b[39m\u001b[38;5;124mgreen\u001b[39m\u001b[38;5;124m'\u001b[39m: \u001b[38;5;241m0\u001b[39m, \n\u001b[1;32m     14\u001b[0m     \u001b[38;5;124m'\u001b[39m\u001b[38;5;124mblue\u001b[39m\u001b[38;5;124m'\u001b[39m: \u001b[38;5;241m0\u001b[39m\n\u001b[1;32m     15\u001b[0m \n\u001b[1;32m     16\u001b[0m }\n\u001b[0;32m---> 17\u001b[0m game_number, results \u001b[38;5;241m=\u001b[39m line\u001b[38;5;241m.\u001b[39msplit(\u001b[38;5;124m'\u001b[39m\u001b[38;5;124m:\u001b[39m\u001b[38;5;124m'\u001b[39m)\n\u001b[1;32m     18\u001b[0m game_number \u001b[38;5;241m=\u001b[39m game_number\u001b[38;5;241m.\u001b[39msplit(\u001b[38;5;124m'\u001b[39m\u001b[38;5;124m \u001b[39m\u001b[38;5;124m'\u001b[39m)[\u001b[38;5;241m1\u001b[39m]\n\u001b[1;32m     19\u001b[0m sets \u001b[38;5;241m=\u001b[39m results\u001b[38;5;241m.\u001b[39msplit(\u001b[38;5;124m'\u001b[39m\u001b[38;5;124m;\u001b[39m\u001b[38;5;124m'\u001b[39m)\n",
      "\u001b[0;31mValueError\u001b[0m: not enough values to unpack (expected 2, got 1)"
     ]
    }
   ],
   "source": [
    "# 2.2\n",
    "# Find the sum of the powers of the minimum possible sets of each game. That's the values in colors for each game so with a little tinkering the parser should be reusable.\n",
    "\n",
    "from math import prod\n",
    "\n",
    "def parse_game_result(line: str):\n",
    "    \"\"\" Read a line of game results and return its number or 0 depending on it it meets the criteria or not \"\"\"\n",
    "    max_red = 12\n",
    "    max_green = 13\n",
    "    max_blue = 14\n",
    "    colors = {\n",
    "        'red': 0,\n",
    "        'green': 0, \n",
    "        'blue': 0\n",
    "\n",
    "    }\n",
    "    game_number, results = line.split(':')\n",
    "    game_number = game_number.split(' ')[1]\n",
    "    sets = results.split(';')\n",
    "    for s in sets:\n",
    "        # print(s)\n",
    "        for hand in s.split(','):\n",
    "            for color in colors.keys():\n",
    "                if color in hand:\n",
    "                    # print(hand.strip().split(' '))\n",
    "                    colors[color] = max(int(hand.strip().split(' ')[0]), colors[color])\n",
    "    return prod(colors.values())\n",
    "\n",
    "answer = 0\n",
    "\n",
    "for line in data:\n",
    "    answer += parse_game_result(line)\n",
    "\n",
    "answer"
   ]
  },
  {
   "cell_type": "code",
   "execution_count": 76,
   "metadata": {},
   "outputs": [
    {
     "data": {
      "text/plain": [
       "522726"
      ]
     },
     "execution_count": 76,
     "metadata": {},
     "output_type": "execute_result"
    }
   ],
   "source": [
    "# 3.1\n",
    "# Sum all engine part numbers where engine part are adjacent to symbols in the schematic.\n",
    "# Start by mapping all symbols. Then, map out all numbers, and keep the ones that are adjacent to a symbol on the symbol map.\n",
    "\n",
    "import numpy as np\n",
    "\n",
    "class Symbol:\n",
    "    def __init__(self, symbol, line, column) -> None:\n",
    "        self.symbol = symbol\n",
    "        self.line = line\n",
    "        self.column = column\n",
    "        self.gear_part_numbers = []\n",
    "\n",
    "    def add_gear_part_number(self, number):\n",
    "        self.gear_part_numbers.append(number)\n",
    "\n",
    "    def calculate_gear_ratio(self):\n",
    "        if len(self.gear_part_numbers) == 2:\n",
    "            return prod(self.gear_part_numbers)\n",
    "        \n",
    "        return 0\n",
    "    \n",
    "    def __repr__(self) -> str:\n",
    "        return f'{self.symbol} {self.line}:{self.column} | {self.gear_part_numbers}'\n",
    "\n",
    "class Number:\n",
    "    def __init__(self, number, lines, columns) -> None:\n",
    "        self.number = number\n",
    "        self.lines = lines\n",
    "        self.columns = columns\n",
    "    \n",
    "    def __repr__(self) -> str:\n",
    "        return f'{self.number} {self.line}:{self.columns}'\n",
    "\n",
    "symbols = []\n",
    "numbers = []\n",
    "\n",
    "schematic = open('data/3_enginge_schematic.txt', 'r').readlines()\n",
    "\n",
    "for i, line in enumerate(schematic):\n",
    "    n = ''\n",
    "    n_cols = []\n",
    "    for j, c in enumerate(line.strip()):\n",
    "        if not c.isalnum() and not c == '.':\n",
    "            symbols.append(Symbol(c, i, j))\n",
    "        if c.isdigit():\n",
    "            n += c\n",
    "            n_cols.append(j)\n",
    "            if not line[j+1].isdigit():\n",
    "                numbers.append(Number(n, np.arange(i-1, i+2), np.arange(n_cols[0]-1, n_cols[-1]+2)))\n",
    "                n = ''\n",
    "                n_cols = []\n",
    "\n",
    "answer = 0\n",
    "\n",
    "for number in numbers:\n",
    "    for symbol in symbols:\n",
    "        if symbol.line in number.lines and symbol.column in number.columns:\n",
    "            # print(number.number)\n",
    "            answer += int(number.number)\n",
    "\n",
    "answer"
   ]
  },
  {
   "cell_type": "code",
   "execution_count": 77,
   "metadata": {},
   "outputs": [
    {
     "data": {
      "text/plain": [
       "81721933"
      ]
     },
     "execution_count": 77,
     "metadata": {},
     "output_type": "execute_result"
    }
   ],
   "source": [
    "# 3.2\n",
    "# Sum up all the gear ratios, that is the sum of the products of the numbers that share a * symbol.\n",
    "\n",
    "for number in numbers:\n",
    "    for symbol in symbols:\n",
    "        if symbol.line in number.lines and symbol.column in number.columns:\n",
    "            if symbol.symbol == '*':\n",
    "            # print(number.number)\n",
    "                symbol.add_gear_part_number(int(number.number))\n",
    "\n",
    "sum([symbol.calculate_gear_ratio() for symbol in symbols])"
   ]
  },
  {
   "cell_type": "code",
   "execution_count": 187,
   "metadata": {},
   "outputs": [
    {
     "data": {
      "text/plain": [
       "27059"
      ]
     },
     "execution_count": 187,
     "metadata": {},
     "output_type": "execute_result"
    }
   ],
   "source": [
    "# 4.1\n",
    "scratchcards = open('data/4_scratchcards.txt', 'r').readlines()\n",
    "# scratchcards = ['Card 1: 41 48 83 86 17 | 83 86  6 31 17  9 48 53',\n",
    "#                 'Card 2: 13 32 20 16 61 | 61 30 68 82 17 32 24 19',\n",
    "#                 'Card 3:  1 21 53 59 44 | 69 82 63 72 16 21 14  1',\n",
    "#                 'Card 4: 41 92 73 84 69 | 59 84 76 51 58  5 54 83',\n",
    "#                 'Card 5: 87 83 26 28 32 | 88 30 70 12 93 22 82 36',\n",
    "#                 'Card 6: 31 18 13 56 72 | 74 77 10 23 35 67 36 11']\n",
    "answer = 0\n",
    "\n",
    "for line in scratchcards:\n",
    "    card, numbers = line.split(':')\n",
    "    # card_number = card.strip().split(' ')[1] \n",
    "    winning_numbers, numbers_i_have = numbers.split('|')\n",
    "    card_value = 0\n",
    "    winning_numbers_set = set([n for n in winning_numbers.strip().split(' ') if n != ''])\n",
    "    numbers_i_have_set = set([n for n in numbers_i_have.strip().split(' ') if n != ''])\n",
    "    winning_numbers_on_card = len(winning_numbers_set.intersection(numbers_i_have_set))\n",
    "    # # winning_numbers_on_card = len(\n",
    "    # #     set(winning_numbers.strip().split(' ')).intersection(\n",
    "    # #         set(numbers_i_have.strip().split(' '))))\n",
    "    for i in range(1, winning_numbers_on_card):\n",
    "        if i == 1: \n",
    "            card_value += i\n",
    "        card_value *= 2\n",
    "    if winning_numbers_on_card == 1: card_value = 1\n",
    "    answer += card_value\n",
    "answer"
   ]
  },
  {
   "cell_type": "code",
   "execution_count": 1,
   "metadata": {},
   "outputs": [
    {
     "data": {
      "text/plain": [
       "5744979"
      ]
     },
     "execution_count": 1,
     "metadata": {},
     "output_type": "execute_result"
    }
   ],
   "source": [
    "# 4.2\n",
    "\n",
    "\n",
    "data = ['Card   1: 41 48 83 86 17 | 83 86  6 31 17  9 48 53',\n",
    "                'Card 2: 13 32 20 16 61 | 61 30 68 82 17 32 24 19',\n",
    "                'Card 3:  1 21 53 59 44 | 69 82 63 72 16 21 14  1',\n",
    "                'Card 4: 41 92 73 84 69 | 59 84 76 51 58  5 54 83',\n",
    "                'Card 5: 87 83 26 28 32 | 88 30 70 12 93 22 82 36',\n",
    "                'Card 6: 31 18 13 56 72 | 74 77 10 23 35 67 36 11']\n",
    "\n",
    "data = open('data/4_scratchcards.txt', 'r').readlines()\n",
    "\n",
    "scratchcards = []\n",
    "\n",
    "class ScatchCard:\n",
    "    def __init__(self, number, number_of_matching_numbers) -> None:\n",
    "        self.number = number\n",
    "        self.number_of_matching_numbers = number_of_matching_numbers\n",
    "\n",
    "    def __repr__(self) -> str:\n",
    "        return f'''Card #{self.number}: {self.number_of_matching_numbers} matching numbers'''\n",
    "\n",
    "def parse_scratchcard(line):\n",
    "    \"\"\" For each card, count number of wins \"\"\"\n",
    "    card, numbers = line.split(':')\n",
    "    card_number = int(card.split(' ')[-1])\n",
    "    winning_numbers, numbers_i_have = numbers.split('|')\n",
    "    # card_value = 0\n",
    "    winning_numbers_set = set([n for n in winning_numbers.strip().split(' ') if n != ''])\n",
    "    numbers_i_have_set = set([n for n in numbers_i_have.strip().split(' ') if n != ''])\n",
    "    winning_numbers_on_card = len(winning_numbers_set.intersection(numbers_i_have_set))\n",
    "    # print(card_number, data[card_number:winning_numbers_on_card+1+i])\n",
    "    # for sc in data[card_number:winning_numbers_on_card+i+1]:\n",
    "    #     scratchcards.append(parse_scratchcard(i, sc))\n",
    "    scratchcard = ScatchCard(card_number, winning_numbers_on_card)\n",
    "    # scratchcards.append(scratchcard)\n",
    "    return scratchcard\n",
    "\n",
    "for i, line in enumerate(data):\n",
    "    scratchcards.append(parse_scratchcard(line))\n",
    "\n",
    "for scratchcard in scratchcards:\n",
    "    for sc in data[scratchcard.number:scratchcard.number+scratchcard.number_of_matching_numbers]:\n",
    "        scratchcards.append(parse_scratchcard(sc))\n",
    "\n",
    "len(scratchcards)\n"
   ]
  },
  {
   "cell_type": "code",
   "execution_count": 43,
   "metadata": {},
   "outputs": [
    {
     "data": {
      "text/plain": [
       "662197086"
      ]
     },
     "execution_count": 43,
     "metadata": {},
     "output_type": "execute_result"
    }
   ],
   "source": [
    "# 5.1\n",
    "\n",
    "data = open('data/5_almanac.txt', 'r').readlines()\n",
    "seeds = data[0].strip().split(':')[1].split(' ')\n",
    "\n",
    "def map_lookup(seed):\n",
    "    \"\"\" Go through the mappings and return final key \"\"\"\n",
    "    for key in mappings.keys():\n",
    "        for r in mappings[key]:\n",
    "            destination_range_start, source_range_start, range_length = r\n",
    "            if seed >= source_range_start and seed <= source_range_start+range_length-1:\n",
    "                seed = destination_range_start + abs(source_range_start-seed)\n",
    "                break\n",
    "    return seed\n",
    "\n",
    "mappings = {}\n",
    "\n",
    "for line in data[1:]:\n",
    "    if ':' in line:\n",
    "        source, *rest = line.strip().split('-')\n",
    "        destination = rest[-1].split(' ')[0]\n",
    "        mappings[f'{source}-to-{destination}'] = []\n",
    "    elif line.strip() != '':\n",
    "        destination_range_start, source_range_start, range_length = map(int, line.strip().split(' '))\n",
    "        mappings[f'{source}-to-{destination}'].append([destination_range_start, source_range_start, range_length])\n",
    "\n",
    "answer = 1852951016 # Hard code first answer to compare\n",
    "\n",
    "for seed in seeds:\n",
    "    if seed.isdigit():\n",
    "        answer = min(answer, map_lookup(int(seed)))\n",
    "\n",
    "answer"
   ]
  },
  {
   "cell_type": "code",
   "execution_count": 126,
   "metadata": {},
   "outputs": [],
   "source": [
    "# 5.2\n",
    "\n",
    "data = open('data/5_almanac.txt', 'r').readlines()\n",
    "seeds = data[0].strip().split(':')[1].split(' ')\n",
    "seeds = [seed for seed in seeds if seed.isdigit()]\n",
    "\n",
    "def map_lookup(seed):\n",
    "    \"\"\" Go through the mappings and return final key \"\"\"\n",
    "    for key in mappings.keys():\n",
    "        for r in mappings[key]:\n",
    "        # for r in sorted(mappings[key]):\n",
    "            # print(key, r)\n",
    "            destination_range_start, source_range_start, range_length = r\n",
    "            if seed >= source_range_start and seed <= source_range_start+range_length-1:\n",
    "                seed = destination_range_start + abs(source_range_start-seed)\n",
    "                break\n",
    "    return seed\n",
    "\n",
    "mappings = {}\n",
    "\n",
    "for line in data[1:]:\n",
    "    if ':' in line:\n",
    "        source, *rest = line.strip().split('-')\n",
    "        destination = rest[-1].split(' ')[0]\n",
    "        mappings[f'{source}-to-{destination}'] = []\n",
    "    elif line.strip() != '':\n",
    "        destination_range_start, source_range_start, range_length = map(int, line.strip().split(' '))\n",
    "        mappings[f'{source}-to-{destination}'].append([destination_range_start, source_range_start, range_length])\n",
    "        mappings[f'{source}-to-{destination}'] = sorted(mappings[f'{source}-to-{destination}'], key=lambda x: x[1])\n",
    "\n",
    "# answer = 1852951016 # Hard code first answer to compare\n",
    "\n",
    "# This takes way too long.\n",
    "\n",
    "# for seed in seeds:\n",
    "#     seed_pairs = list(zip(seeds[::2], seeds[1::2]))\n",
    "#     for pair in seed_pairs:\n",
    "#         start, range_length = map(int, pair)\n",
    "#         for seed in range(start, start+range_length):\n",
    "#             answer = min(answer, map_lookup(seed))\n",
    "\n",
    "# answer"
   ]
  },
  {
   "cell_type": "code",
   "execution_count": 111,
   "metadata": {},
   "outputs": [
    {
     "name": "stdout",
     "output_type": "stream",
     "text": [
      "52510809\n"
     ]
    }
   ],
   "source": [
    "# Had to resort to using someone else's 5.2\n",
    "\n",
    "file = open(\"data/5_almanac.txt\").read().strip().split(\"\\n\\n\")\n",
    "\n",
    "inputs = [int(x) for x in file[0].replace(\"seeds: \", \"\").split(\" \")]\n",
    "\n",
    "# Seeds format: [(start, end), ...]\n",
    "seeds = [(inputs[i], inputs[i] + inputs[i + 1]) for i in range(0, len(inputs), 2)]\n",
    "\n",
    "# Map format: [[destination_range_start, source_range_start, range_length], ...]\n",
    "maps = [\n",
    "    [[int(y) for y in x.split(\" \")] for x in file[i].splitlines()[1::]]\n",
    "    for i in range(1, 8)\n",
    "]\n",
    "\n",
    "\n",
    "def remap(start: int, end: int, new_seeds: list[tuple[int]], m: list[int]) -> int:\n",
    "    for destination_range_start, source_range_start, range_length in m:\n",
    "        # Check if the ranges overlap\n",
    "        overlap_start = max(start, source_range_start)\n",
    "        overlap_end = min(end, source_range_start + range_length)\n",
    "\n",
    "        if overlap_start < overlap_end:\n",
    "            new_seeds.append(\n",
    "                (\n",
    "                    destination_range_start + (overlap_start - source_range_start),\n",
    "                    destination_range_start + (overlap_end - source_range_start),\n",
    "                )\n",
    "            )\n",
    "\n",
    "            if start < overlap_start:\n",
    "                seeds.append((start, overlap_start))\n",
    "\n",
    "            if overlap_end < end:\n",
    "                seeds.append((overlap_end, end))\n",
    "\n",
    "            break\n",
    "    else:\n",
    "        # If no overlap, just add the original range to the new seeds\n",
    "        new_seeds.append((start, end))\n",
    "\n",
    "\n",
    "r = float(\"inf\")\n",
    "\n",
    "for m in maps:\n",
    "    new_seeds = []\n",
    "    while len(seeds) > 0:\n",
    "        start, end = seeds.pop()\n",
    "        remap(start, end, new_seeds, m)\n",
    "\n",
    "    seeds = new_seeds\n",
    "\n",
    "print(min(seeds)[0])"
   ]
  },
  {
   "cell_type": "code",
   "execution_count": 121,
   "metadata": {},
   "outputs": [
    {
     "data": {
      "text/plain": [
       "128700"
      ]
     },
     "execution_count": 121,
     "metadata": {},
     "output_type": "execute_result"
    }
   ],
   "source": [
    "# 6.1\n",
    "\n",
    "from math import prod\n",
    "\n",
    "def calculate_ways_to_win(time, record):\n",
    "    distances = []\n",
    "    for i in range(1, time):\n",
    "        distances.append(i*(time-i))\n",
    "    return len([d for d in distances if d > record])\n",
    "\n",
    "times = [58, 99, 64, 69]\n",
    "records = [478, 2232, 1019, 1071]\n",
    "margins = []\n",
    "for time, record in zip(times, records):\n",
    "    margins.append(calculate_ways_to_win(time, record))\n",
    "\n",
    "prod(margins)"
   ]
  },
  {
   "cell_type": "code",
   "execution_count": 125,
   "metadata": {},
   "outputs": [
    {
     "data": {
      "text/plain": [
       "39594072"
      ]
     },
     "execution_count": 125,
     "metadata": {},
     "output_type": "execute_result"
    }
   ],
   "source": [
    "#6.2\n",
    "\n",
    "time = int(''.join(list(map(str, times))))\n",
    "record = int(''.join(list(map(str, records))))\n",
    "calculate_ways_to_win(time, record)"
   ]
  },
  {
   "cell_type": "code",
   "execution_count": 295,
   "metadata": {},
   "outputs": [],
   "source": [
    "# 7.1\n",
    "# Calculate the ranks first by type and then by first card\n",
    "# How to assign the correct rank? There are 1000 hands. Start from the bottom with the High card hands and rank them, then the pairs and so on.\n",
    "\n",
    "from collections import Counter\n",
    "\n",
    "# Set up card ranks dictionary\n",
    "card_ranks = {\n",
    "    'A': 14,\n",
    "    'K': 13,\n",
    "    'Q': 12,\n",
    "    'J': 11,\n",
    "    'T': 10\n",
    "}\n",
    "\n",
    "for i in range(9, 1, -1):\n",
    "    card_ranks[str(i)] = i\n",
    "\n",
    "class CamelHand:\n",
    "    \"\"\" Class to represent a hand with attributes for hand, bet, type and rank \"\"\"\n",
    "    def __init__(self, data) -> None:\n",
    "        self.hand, self.bet = data.split(' ')\n",
    "\n",
    "    def calculate_strength(self):\n",
    "        \"\"\" Calculate hand type \"\"\"\n",
    "        counter = Counter(self.hand)\n",
    "        value_counts = counter.values()\n",
    "        if 5 in value_counts:\n",
    "            self.strength = 7\n",
    "        elif 4 in value_counts:\n",
    "            self.strength = 6\n",
    "        elif 3 in value_counts and 2 in value_counts:\n",
    "            self.strength = 5\n",
    "        elif 3 in value_counts and 2 not in value_counts:\n",
    "            self.strength = 4\n",
    "        elif Counter(value_counts)[2] == 2:\n",
    "            self.strength = 3\n",
    "        elif 2 in value_counts and 3 not in value_counts:\n",
    "            self.strength = 2\n",
    "        else:\n",
    "            self.strength = 1\n",
    "    \n",
    "    def __repr__(self) -> str:\n",
    "        return f'CamelCards Hand: {self.hand} | {self.strength}'\n",
    "camelhands = []\n",
    "\n",
    "data = open('data/7_camel_cards_hands.txt', 'r').readlines()\n",
    "data = [line.strip() for line in data]\n",
    "\n",
    "for line in data:\n",
    "    camelhand = CamelHand(line.strip())\n",
    "    camelhand.calculate_strength()\n",
    "    camelhands.append(camelhand)\n"
   ]
  },
  {
   "cell_type": "code",
   "execution_count": 283,
   "metadata": {},
   "outputs": [
    {
     "data": {
      "text/plain": [
       "<sqlite3.Cursor at 0x7f8e885a28c0>"
      ]
     },
     "execution_count": 283,
     "metadata": {},
     "output_type": "execute_result"
    }
   ],
   "source": [
    "# This is a fine chance to practice some SQL RANKing\n",
    "\n",
    "import sqlite3\n",
    "\n",
    "# Create and connect to database\n",
    "con = sqlite3.connect('data/7_camel_cards_hands.db')\n",
    "cur = con.cursor()\n",
    "\n",
    "# Create tables\n",
    "create_sql = '''\n",
    "CREATE TABLE IF NOT EXISTS CamelCardHands (\n",
    "    hand TEXT,\n",
    "    strength INT,\n",
    "    bet INT)\n",
    "'''\n",
    "\n",
    "cur.execute(create_sql)\n",
    "create_sql = '''\n",
    "CREATE TABLE IF NOT EXISTS CardStrength (\n",
    "    card TEXT,\n",
    "    strength INT)\n",
    "'''\n",
    "\n",
    "cur.execute(create_sql)\n"
   ]
  },
  {
   "cell_type": "code",
   "execution_count": 282,
   "metadata": {},
   "outputs": [],
   "source": []
  },
  {
   "cell_type": "code",
   "execution_count": 296,
   "metadata": {},
   "outputs": [],
   "source": [
    "# Add data\n",
    "cur.execute('DELETE FROM CamelCardHands')\n",
    "for i, camelhand in enumerate(camelhands):\n",
    "    cur.execute('INSERT INTO CamelCardHands VALUES (?, ?, ?)', [camelhand.hand, camelhand.strength, camelhand.bet])\n",
    "con.commit()\n",
    "\n"
   ]
  },
  {
   "cell_type": "code",
   "execution_count": 290,
   "metadata": {},
   "outputs": [],
   "source": [
    "\n",
    "cur.execute('DELETE FROM CardStrength')\n",
    "for card, strength in card_ranks.items():\n",
    "    cur.execute('INSERT INTO CardStrength VALUES (?, ?)', [card, strength])\n",
    "    \n",
    "con.commit()"
   ]
  },
  {
   "cell_type": "code",
   "execution_count": 313,
   "metadata": {},
   "outputs": [
    {
     "data": {
      "text/plain": [
       "(253253225,)"
      ]
     },
     "execution_count": 313,
     "metadata": {},
     "output_type": "execute_result"
    }
   ],
   "source": [
    "# Rank and calculate wins\n",
    "\n",
    "sql = \"\"\" \n",
    "with hands_with_strengths as\n",
    "(select hand\n",
    "    ,strength\n",
    "    ,(select strength from CardStrength\n",
    "        where card = substr(hand, 1, 1)\n",
    "    ) as first_card_strength \n",
    "    ,(select strength from CardStrength\n",
    "        where card = substr(hand, 2, 1)\n",
    "    ) as second_card_strength \n",
    "    ,(select strength from CardStrength\n",
    "        where card = substr(hand, 3, 1)\n",
    "    ) as third_card_strength \n",
    "    ,(select strength from CardStrength\n",
    "        where card = substr(hand, 4, 1)\n",
    "    ) as fourth_card_strength \n",
    "    ,(select strength from CardStrength\n",
    "        where card = substr(hand, 5, 1)\n",
    "    ) as fifth_card_strength\n",
    "    ,bet\n",
    "from CamelCardHands)\n",
    ",hands_with_ranks as\n",
    "(select * \n",
    "    ,DENSE_RANK() OVER (\n",
    "    ORDER BY \n",
    "        strength\n",
    "        ,first_card_strength\n",
    "        ,second_card_strength\n",
    "        ,third_card_strength\n",
    "        ,fourth_card_strength\n",
    "        ,fifth_card_strength\n",
    "    ) as rank\n",
    "from hands_with_strengths)\n",
    " \n",
    "select sum(bet*rank)\n",
    "from hands_with_ranks;\n",
    "\"\"\"\n",
    "cur.execute(sql).fetchone()"
   ]
  },
  {
   "cell_type": "code",
   "execution_count": 311,
   "metadata": {},
   "outputs": [],
   "source": [
    "# 7.2\n",
    "# Jacks are wild!\n",
    "\n",
    "# Jacks are now the weakest card when solving ties\n",
    "card_ranks = {\n",
    "    'A': 14,\n",
    "    'K': 13,\n",
    "    'Q': 12,\n",
    "    'J': 2,\n",
    "    'T': 11\n",
    "}\n",
    "\n",
    "for i in range(9, 1, -1):\n",
    "    card_ranks[str(i)] = i+1\n",
    "\n",
    "class CamelHand:\n",
    "    \"\"\" Class to represent a hand with attributes for hand, bet, type and rank \"\"\"\n",
    "    def __init__(self, data) -> None:\n",
    "        self.hand, self.bet = data.split(' ')\n",
    "\n",
    "    def calculate_strength(self):\n",
    "        \"\"\" Calculate hand strength \"\"\"\n",
    "        counter = Counter(self.hand)\n",
    "        value_counts = counter.values()\n",
    "        if 5 in value_counts:\n",
    "            # Five of a kind\n",
    "            self.strength = 7\n",
    "        elif 4 in value_counts:\n",
    "            if 'J' in counter.keys():\n",
    "                # Five of a kind\n",
    "                self.strength = 7\n",
    "            else:\n",
    "                # Four of a kind\n",
    "                self.strength = 6\n",
    "        elif 3 in value_counts and 2 in value_counts:\n",
    "            if 'J' in counter.keys():\n",
    "                # Five of a kind\n",
    "                self.strength = 7\n",
    "            else:\n",
    "                # Full house\n",
    "                self.strength = 5\n",
    "        elif 3 in value_counts and 2 not in value_counts:\n",
    "            if counter['J'] == 1 or counter['J'] == 3:\n",
    "                # Four of a kind\n",
    "                self.strength = 6\n",
    "            else:\n",
    "                # Three of a kind\n",
    "                self.strength = 4\n",
    "        elif Counter(value_counts)[2] == 2:\n",
    "            if counter['J'] == 2:\n",
    "                # Four of a kind\n",
    "                self.strength = 6\n",
    "            elif counter['J'] == 1:\n",
    "                # Full house\n",
    "                self.strength = 5\n",
    "            else:\n",
    "                # Two pair\n",
    "                self.strength = 3\n",
    "        elif 2 in value_counts and 3 not in value_counts:\n",
    "            if counter['J'] == 1 or counter['J'] == 2:\n",
    "                # Three of a kind\n",
    "                self.strength = 4\n",
    "            else:\n",
    "                # One pair\n",
    "                self.strength = 2\n",
    "        else:\n",
    "            if counter['J'] == 1:\n",
    "                # One pair\n",
    "                self.strength = 2\n",
    "            else:\n",
    "                # High card\n",
    "                self.strength = 1\n",
    "    \n",
    "    def __repr__(self) -> str:\n",
    "        return f'CamelCards Hand: {self.hand} | {self.strength}'\n",
    "    \n",
    "camelhands = []\n",
    "\n",
    "data = open('data/7_camel_cards_hands.txt', 'r').readlines()\n",
    "data = [line.strip() for line in data]\n",
    "\n",
    "for line in data:\n",
    "    camelhand = CamelHand(line.strip())\n",
    "    camelhand.calculate_strength()\n",
    "    camelhands.append(camelhand)\n"
   ]
  },
  {
   "cell_type": "code",
   "execution_count": 312,
   "metadata": {},
   "outputs": [],
   "source": [
    "# Update hands table\n",
    "cur.execute('DELETE FROM CamelCardHands')\n",
    "for i, camelhand in enumerate(camelhands):\n",
    "    cur.execute('INSERT INTO CamelCardHands VALUES (?, ?, ?)', [camelhand.hand, camelhand.strength, camelhand.bet])\n",
    "con.commit()"
   ]
  },
  {
   "cell_type": "code",
   "execution_count": null,
   "metadata": {},
   "outputs": [],
   "source": [
    "# 8.1\n"
   ]
  }
 ],
 "metadata": {
  "kernelspec": {
   "display_name": "Python 3",
   "language": "python",
   "name": "python3"
  },
  "language_info": {
   "codemirror_mode": {
    "name": "ipython",
    "version": 3
   },
   "file_extension": ".py",
   "mimetype": "text/x-python",
   "name": "python",
   "nbconvert_exporter": "python",
   "pygments_lexer": "ipython3",
   "version": "3.10.12"
  }
 },
 "nbformat": 4,
 "nbformat_minor": 2
}
